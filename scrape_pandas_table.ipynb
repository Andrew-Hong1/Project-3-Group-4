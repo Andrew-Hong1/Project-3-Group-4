{
 "cells": [
  {
   "cell_type": "markdown",
   "metadata": {},
   "source": [
    "# Scrape VEI Pandas Table from Wikipedia's Volcanic explosivity index article"
   ]
  },
  {
   "cell_type": "code",
   "execution_count": 127,
   "metadata": {
    "tags": []
   },
   "outputs": [],
   "source": [
    "import pandas as pd"
   ]
  },
  {
   "cell_type": "code",
   "execution_count": 128,
   "metadata": {
    "tags": []
   },
   "outputs": [],
   "source": [
    "# Read in HTML tables into a DataFrame\n",
    "df = pd.read_html('https://en.wikipedia.org/wiki/Volcanic_explosivity_index',encoding='utf-8')"
   ]
  },
  {
   "cell_type": "code",
   "execution_count": 129,
   "metadata": {
    "tags": []
   },
   "outputs": [],
   "source": [
    "# Select the first table to get the VEI table\n",
    "vei_df = df[0]"
   ]
  },
  {
   "cell_type": "code",
   "execution_count": 130,
   "metadata": {
    "tags": []
   },
   "outputs": [],
   "source": [
    "# remove the second level of columns (i.e., the 'Examples' columns)\n",
    "vei_df.columns = vei_df.columns.droplevel(level=1)"
   ]
  },
  {
   "cell_type": "code",
   "execution_count": 131,
   "metadata": {
    "tags": []
   },
   "outputs": [],
   "source": [
    "# rename the Stratospheric injection[2] column to remove the footnote hyperlink\n",
    "vei_df.rename(columns={'Stratospheric injection[2]': 'Stratospheric injection'}, inplace=True)"
   ]
  },
  {
   "cell_type": "code",
   "execution_count": 132,
   "metadata": {
    "tags": []
   },
   "outputs": [],
   "source": [
    "# drop the last Unnamed: 8_level_0 full of NaN values\n",
    "vei_df = vei_df.iloc[:, :-1]"
   ]
  },
  {
   "cell_type": "code",
   "execution_count": 133,
   "metadata": {
    "tags": []
   },
   "outputs": [],
   "source": [
    "# Remove the duplicate VEI rows with links to specific volcanos from the DataFrame\n",
    "vei_df = vei_df.iloc[[0, 2, 4, 6, 8, 10, 12, 14]]"
   ]
  },
  {
   "cell_type": "code",
   "execution_count": 134,
   "metadata": {
    "tags": []
   },
   "outputs": [
    {
     "data": {
      "text/html": [
       "<div>\n",
       "<style scoped>\n",
       "    .dataframe tbody tr th:only-of-type {\n",
       "        vertical-align: middle;\n",
       "    }\n",
       "\n",
       "    .dataframe tbody tr th {\n",
       "        vertical-align: top;\n",
       "    }\n",
       "\n",
       "    .dataframe thead th {\n",
       "        text-align: right;\n",
       "    }\n",
       "</style>\n",
       "<table border=\"1\" class=\"dataframe\">\n",
       "  <thead>\n",
       "    <tr style=\"text-align: right;\">\n",
       "      <th></th>\n",
       "      <th>VEI</th>\n",
       "      <th>Ejecta  volume (bulk)</th>\n",
       "      <th>Classification</th>\n",
       "      <th>Description</th>\n",
       "      <th>Plume</th>\n",
       "      <th>Periodicity</th>\n",
       "      <th>Tropospheric injection</th>\n",
       "      <th>Stratospheric injection</th>\n",
       "    </tr>\n",
       "  </thead>\n",
       "  <tbody>\n",
       "    <tr>\n",
       "      <th>0</th>\n",
       "      <td>0</td>\n",
       "      <td>&lt; 104 m3</td>\n",
       "      <td>Hawaiian</td>\n",
       "      <td>Effusive</td>\n",
       "      <td>&lt; 100 m</td>\n",
       "      <td>constant</td>\n",
       "      <td>negligible</td>\n",
       "      <td>none</td>\n",
       "    </tr>\n",
       "    <tr>\n",
       "      <th>2</th>\n",
       "      <td>1</td>\n",
       "      <td>&gt; 104 m3</td>\n",
       "      <td>Hawaiian / Strombolian</td>\n",
       "      <td>Gentle</td>\n",
       "      <td>100 m – 1 km</td>\n",
       "      <td>daily</td>\n",
       "      <td>minor</td>\n",
       "      <td>none</td>\n",
       "    </tr>\n",
       "    <tr>\n",
       "      <th>4</th>\n",
       "      <td>2</td>\n",
       "      <td>&gt; 106 m3</td>\n",
       "      <td>Strombolian / Vulcanian</td>\n",
       "      <td>Explosive</td>\n",
       "      <td>1–5 km</td>\n",
       "      <td>2 weeks</td>\n",
       "      <td>moderate</td>\n",
       "      <td>none</td>\n",
       "    </tr>\n",
       "    <tr>\n",
       "      <th>6</th>\n",
       "      <td>3</td>\n",
       "      <td>&gt; 107 m3</td>\n",
       "      <td>Strombolian / Vulcanian / Peléan / Sub-Plinian</td>\n",
       "      <td>Severe</td>\n",
       "      <td>3–15 km</td>\n",
       "      <td>3 months</td>\n",
       "      <td>substantial</td>\n",
       "      <td>possible</td>\n",
       "    </tr>\n",
       "    <tr>\n",
       "      <th>8</th>\n",
       "      <td>4</td>\n",
       "      <td>&gt; 0.1 km3</td>\n",
       "      <td>Peléan / Plinian / Sub-Plinian</td>\n",
       "      <td>Catastrophic</td>\n",
       "      <td>&gt; 10 km</td>\n",
       "      <td>18 months</td>\n",
       "      <td>substantial</td>\n",
       "      <td>definite</td>\n",
       "    </tr>\n",
       "    <tr>\n",
       "      <th>10</th>\n",
       "      <td>5</td>\n",
       "      <td>&gt; 1 km3</td>\n",
       "      <td>Peléan / Plinian</td>\n",
       "      <td>Cataclysmic</td>\n",
       "      <td>&gt; 10 km</td>\n",
       "      <td>12 years</td>\n",
       "      <td>substantial</td>\n",
       "      <td>significant</td>\n",
       "    </tr>\n",
       "    <tr>\n",
       "      <th>12</th>\n",
       "      <td>6</td>\n",
       "      <td>&gt; 10 km3</td>\n",
       "      <td>Plinian / Ultra-Plinian</td>\n",
       "      <td>Colossal</td>\n",
       "      <td>&gt; 20 km</td>\n",
       "      <td>50–100 years</td>\n",
       "      <td>substantial</td>\n",
       "      <td>substantial</td>\n",
       "    </tr>\n",
       "    <tr>\n",
       "      <th>14</th>\n",
       "      <td>7</td>\n",
       "      <td>&gt; 100 km3</td>\n",
       "      <td>Ultra-Plinian</td>\n",
       "      <td>Super-colossal</td>\n",
       "      <td>&gt; 20 km</td>\n",
       "      <td>500–1,000 years</td>\n",
       "      <td>substantial</td>\n",
       "      <td>substantial</td>\n",
       "    </tr>\n",
       "  </tbody>\n",
       "</table>\n",
       "</div>"
      ],
      "text/plain": [
       "    VEI Ejecta  volume (bulk)                                  Classification  \\\n",
       "0     0              < 104 m3                                        Hawaiian   \n",
       "2     1              > 104 m3                          Hawaiian / Strombolian   \n",
       "4     2              > 106 m3                         Strombolian / Vulcanian   \n",
       "6     3              > 107 m3  Strombolian / Vulcanian / Peléan / Sub-Plinian   \n",
       "8     4             > 0.1 km3                  Peléan / Plinian / Sub-Plinian   \n",
       "10    5               > 1 km3                                Peléan / Plinian   \n",
       "12    6              > 10 km3                         Plinian / Ultra-Plinian   \n",
       "14    7             > 100 km3                                   Ultra-Plinian   \n",
       "\n",
       "       Description         Plume      Periodicity Tropospheric injection  \\\n",
       "0         Effusive       < 100 m         constant             negligible   \n",
       "2           Gentle  100 m – 1 km            daily                  minor   \n",
       "4        Explosive        1–5 km          2 weeks               moderate   \n",
       "6           Severe       3–15 km         3 months            substantial   \n",
       "8     Catastrophic       > 10 km        18 months            substantial   \n",
       "10     Cataclysmic       > 10 km         12 years            substantial   \n",
       "12        Colossal       > 20 km     50–100 years            substantial   \n",
       "14  Super-colossal       > 20 km  500–1,000 years            substantial   \n",
       "\n",
       "   Stratospheric injection  \n",
       "0                     none  \n",
       "2                     none  \n",
       "4                     none  \n",
       "6                 possible  \n",
       "8                 definite  \n",
       "10             significant  \n",
       "12             substantial  \n",
       "14             substantial  "
      ]
     },
     "execution_count": 134,
     "metadata": {},
     "output_type": "execute_result"
    }
   ],
   "source": [
    "vei_df.head(10)"
   ]
  },
  {
   "cell_type": "code",
   "execution_count": 137,
   "metadata": {
    "tags": []
   },
   "outputs": [],
   "source": [
    "# Adjust some of the cells that need to be reformatted \n",
    "vei_df.loc[16, 'Periodicity'] = \"> 50,000 years\"\n",
    "new_values = ['< 10^4 m^3', '> 10^4 m^3', '> 10^6 m^3','> 10^7 m^3','> 0.1 km^3','> 1 km3','> 10 km^3','> 100 km^3','> 1,000 km^3']\n",
    "vei_df['Ejecta  volume (bulk)']=new_values"
   ]
  },
  {
   "cell_type": "code",
   "execution_count": 138,
   "metadata": {
    "tags": []
   },
   "outputs": [
    {
     "data": {
      "text/html": [
       "<div>\n",
       "<style scoped>\n",
       "    .dataframe tbody tr th:only-of-type {\n",
       "        vertical-align: middle;\n",
       "    }\n",
       "\n",
       "    .dataframe tbody tr th {\n",
       "        vertical-align: top;\n",
       "    }\n",
       "\n",
       "    .dataframe thead th {\n",
       "        text-align: right;\n",
       "    }\n",
       "</style>\n",
       "<table border=\"1\" class=\"dataframe\">\n",
       "  <thead>\n",
       "    <tr style=\"text-align: right;\">\n",
       "      <th></th>\n",
       "      <th>VEI</th>\n",
       "      <th>Ejecta  volume (bulk)</th>\n",
       "      <th>Classification</th>\n",
       "      <th>Description</th>\n",
       "      <th>Plume</th>\n",
       "      <th>Periodicity</th>\n",
       "      <th>Tropospheric injection</th>\n",
       "      <th>Stratospheric injection</th>\n",
       "    </tr>\n",
       "  </thead>\n",
       "  <tbody>\n",
       "    <tr>\n",
       "      <th>0</th>\n",
       "      <td>0.0</td>\n",
       "      <td>&lt; 10^4 m^3</td>\n",
       "      <td>Hawaiian</td>\n",
       "      <td>Effusive</td>\n",
       "      <td>&lt; 100 m</td>\n",
       "      <td>constant</td>\n",
       "      <td>negligible</td>\n",
       "      <td>none</td>\n",
       "    </tr>\n",
       "    <tr>\n",
       "      <th>2</th>\n",
       "      <td>1.0</td>\n",
       "      <td>&gt; 10^4 m^3</td>\n",
       "      <td>Hawaiian / Strombolian</td>\n",
       "      <td>Gentle</td>\n",
       "      <td>100 m – 1 km</td>\n",
       "      <td>daily</td>\n",
       "      <td>minor</td>\n",
       "      <td>none</td>\n",
       "    </tr>\n",
       "    <tr>\n",
       "      <th>4</th>\n",
       "      <td>2.0</td>\n",
       "      <td>&gt; 10^6 m^3</td>\n",
       "      <td>Strombolian / Vulcanian</td>\n",
       "      <td>Explosive</td>\n",
       "      <td>1–5 km</td>\n",
       "      <td>2 weeks</td>\n",
       "      <td>moderate</td>\n",
       "      <td>none</td>\n",
       "    </tr>\n",
       "    <tr>\n",
       "      <th>6</th>\n",
       "      <td>3.0</td>\n",
       "      <td>&gt; 10^7 m^3</td>\n",
       "      <td>Strombolian / Vulcanian / Peléan / Sub-Plinian</td>\n",
       "      <td>Severe</td>\n",
       "      <td>3–15 km</td>\n",
       "      <td>3 months</td>\n",
       "      <td>substantial</td>\n",
       "      <td>possible</td>\n",
       "    </tr>\n",
       "    <tr>\n",
       "      <th>8</th>\n",
       "      <td>4.0</td>\n",
       "      <td>&gt; 0.1 km^3</td>\n",
       "      <td>Peléan / Plinian / Sub-Plinian</td>\n",
       "      <td>Catastrophic</td>\n",
       "      <td>&gt; 10 km</td>\n",
       "      <td>18 months</td>\n",
       "      <td>substantial</td>\n",
       "      <td>definite</td>\n",
       "    </tr>\n",
       "    <tr>\n",
       "      <th>10</th>\n",
       "      <td>5.0</td>\n",
       "      <td>&gt; 1 km3</td>\n",
       "      <td>Peléan / Plinian</td>\n",
       "      <td>Cataclysmic</td>\n",
       "      <td>&gt; 10 km</td>\n",
       "      <td>12 years</td>\n",
       "      <td>substantial</td>\n",
       "      <td>significant</td>\n",
       "    </tr>\n",
       "    <tr>\n",
       "      <th>12</th>\n",
       "      <td>6.0</td>\n",
       "      <td>&gt; 10 km^3</td>\n",
       "      <td>Plinian / Ultra-Plinian</td>\n",
       "      <td>Colossal</td>\n",
       "      <td>&gt; 20 km</td>\n",
       "      <td>50–100 years</td>\n",
       "      <td>substantial</td>\n",
       "      <td>substantial</td>\n",
       "    </tr>\n",
       "    <tr>\n",
       "      <th>14</th>\n",
       "      <td>7.0</td>\n",
       "      <td>&gt; 100 km^3</td>\n",
       "      <td>Ultra-Plinian</td>\n",
       "      <td>Super-colossal</td>\n",
       "      <td>&gt; 20 km</td>\n",
       "      <td>500–1,000 years</td>\n",
       "      <td>substantial</td>\n",
       "      <td>substantial</td>\n",
       "    </tr>\n",
       "    <tr>\n",
       "      <th>16</th>\n",
       "      <td>NaN</td>\n",
       "      <td>&gt; 1,000 km^3</td>\n",
       "      <td>NaN</td>\n",
       "      <td>NaN</td>\n",
       "      <td>NaN</td>\n",
       "      <td>&gt; 50,000 years</td>\n",
       "      <td>NaN</td>\n",
       "      <td>NaN</td>\n",
       "    </tr>\n",
       "  </tbody>\n",
       "</table>\n",
       "</div>"
      ],
      "text/plain": [
       "    VEI Ejecta  volume (bulk)                                  Classification  \\\n",
       "0   0.0            < 10^4 m^3                                        Hawaiian   \n",
       "2   1.0            > 10^4 m^3                          Hawaiian / Strombolian   \n",
       "4   2.0            > 10^6 m^3                         Strombolian / Vulcanian   \n",
       "6   3.0            > 10^7 m^3  Strombolian / Vulcanian / Peléan / Sub-Plinian   \n",
       "8   4.0            > 0.1 km^3                  Peléan / Plinian / Sub-Plinian   \n",
       "10  5.0               > 1 km3                                Peléan / Plinian   \n",
       "12  6.0             > 10 km^3                         Plinian / Ultra-Plinian   \n",
       "14  7.0            > 100 km^3                                   Ultra-Plinian   \n",
       "16  NaN          > 1,000 km^3                                             NaN   \n",
       "\n",
       "       Description         Plume      Periodicity Tropospheric injection  \\\n",
       "0         Effusive       < 100 m         constant             negligible   \n",
       "2           Gentle  100 m – 1 km            daily                  minor   \n",
       "4        Explosive        1–5 km          2 weeks               moderate   \n",
       "6           Severe       3–15 km         3 months            substantial   \n",
       "8     Catastrophic       > 10 km        18 months            substantial   \n",
       "10     Cataclysmic       > 10 km         12 years            substantial   \n",
       "12        Colossal       > 20 km     50–100 years            substantial   \n",
       "14  Super-colossal       > 20 km  500–1,000 years            substantial   \n",
       "16             NaN           NaN   > 50,000 years                    NaN   \n",
       "\n",
       "   Stratospheric injection  \n",
       "0                     none  \n",
       "2                     none  \n",
       "4                     none  \n",
       "6                 possible  \n",
       "8                 definite  \n",
       "10             significant  \n",
       "12             substantial  \n",
       "14             substantial  \n",
       "16                     NaN  "
      ]
     },
     "execution_count": 138,
     "metadata": {},
     "output_type": "execute_result"
    }
   ],
   "source": [
    "vei_df.head(10)"
   ]
  },
  {
   "cell_type": "code",
   "execution_count": 112,
   "metadata": {
    "tags": []
   },
   "outputs": [],
   "source": [
    "vei_df.to_csv('vei_df.csv', index=False, encoding='utf-8')"
   ]
  },
  {
   "cell_type": "code",
   "execution_count": null,
   "metadata": {},
   "outputs": [],
   "source": []
  }
 ],
 "metadata": {
  "kernelspec": {
   "display_name": "Python 3 (ipykernel)",
   "language": "python",
   "name": "python3"
  },
  "language_info": {
   "codemirror_mode": {
    "name": "ipython",
    "version": 3
   },
   "file_extension": ".py",
   "mimetype": "text/x-python",
   "name": "python",
   "nbconvert_exporter": "python",
   "pygments_lexer": "ipython3",
   "version": "3.10.11"
  },
  "vscode": {
   "interpreter": {
    "hash": "31f2aee4e71d21fbe5cf8b01ff0e069b9275f58929596ceb00d14d90e3e16cd6"
   }
  }
 },
 "nbformat": 4,
 "nbformat_minor": 4
}

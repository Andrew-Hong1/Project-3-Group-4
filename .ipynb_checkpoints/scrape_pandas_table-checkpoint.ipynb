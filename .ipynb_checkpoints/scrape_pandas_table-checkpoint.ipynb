{
 "cells": [
  {
   "cell_type": "markdown",
   "metadata": {
    "tags": []
   },
   "source": [
    "# Scrape VEI Pandas Table from Wikipedia's Volcanic explosivity index article"
   ]
  },
  {
   "cell_type": "code",
   "execution_count": 1,
   "metadata": {
    "tags": []
   },
   "outputs": [],
   "source": [
    "import pandas as pd\n",
    "import numpy as np"
   ]
  },
  {
   "cell_type": "code",
   "execution_count": 2,
   "metadata": {
    "tags": []
   },
   "outputs": [],
   "source": [
    "# Read in HTML tables into a DataFrame\n",
    "df = pd.read_html('https://en.wikipedia.org/wiki/Volcanic_explosivity_index',encoding='utf-8')"
   ]
  },
  {
   "cell_type": "code",
   "execution_count": 3,
   "metadata": {
    "tags": []
   },
   "outputs": [],
   "source": [
    "# Select the first table to get the VEI table\n",
    "vei_df = df[0]"
   ]
  },
  {
   "cell_type": "code",
   "execution_count": 4,
   "metadata": {
    "tags": []
   },
   "outputs": [],
   "source": [
    "# remove the second level of columns (i.e., the 'Examples' columns)\n",
    "vei_df.columns = vei_df.columns.droplevel(level=1)"
   ]
  },
  {
   "cell_type": "code",
   "execution_count": 5,
   "metadata": {
    "tags": []
   },
   "outputs": [],
   "source": [
    "# rename the Stratospheric injection[2] column to remove the footnote hyperlink\n",
    "vei_df.rename(columns={'Stratospheric injection[2]': 'Stratospheric injection'}, inplace=True)"
   ]
  },
  {
   "cell_type": "code",
   "execution_count": 6,
   "metadata": {
    "tags": []
   },
   "outputs": [],
   "source": [
    "# drop the last Unnamed: 8_level_0 full of NaN values\n",
    "vei_df = vei_df.iloc[:, :-1]"
   ]
  },
  {
   "cell_type": "code",
   "execution_count": 7,
   "metadata": {
    "tags": []
   },
   "outputs": [],
   "source": [
    "# Remove the duplicate VEI rows with links to specific volcanos from the DataFrame\n",
    "vei_df = vei_df.iloc[[0, 2, 4, 6, 8, 10, 12, 14,16]]"
   ]
  },
  {
   "cell_type": "code",
   "execution_count": 8,
   "metadata": {
    "tags": []
   },
   "outputs": [
    {
     "data": {
      "text/html": [
       "<div>\n",
       "<style scoped>\n",
       "    .dataframe tbody tr th:only-of-type {\n",
       "        vertical-align: middle;\n",
       "    }\n",
       "\n",
       "    .dataframe tbody tr th {\n",
       "        vertical-align: top;\n",
       "    }\n",
       "\n",
       "    .dataframe thead th {\n",
       "        text-align: right;\n",
       "    }\n",
       "</style>\n",
       "<table border=\"1\" class=\"dataframe\">\n",
       "  <thead>\n",
       "    <tr style=\"text-align: right;\">\n",
       "      <th></th>\n",
       "      <th>VEI</th>\n",
       "      <th>Ejecta  volume (bulk)</th>\n",
       "      <th>Classification</th>\n",
       "      <th>Description</th>\n",
       "      <th>Plume</th>\n",
       "      <th>Periodicity</th>\n",
       "      <th>Tropospheric injection</th>\n",
       "      <th>Stratospheric injection</th>\n",
       "    </tr>\n",
       "  </thead>\n",
       "  <tbody>\n",
       "    <tr>\n",
       "      <th>0</th>\n",
       "      <td>0</td>\n",
       "      <td>&lt; 104 m3</td>\n",
       "      <td>Hawaiian</td>\n",
       "      <td>Effusive</td>\n",
       "      <td>&lt; 100 m</td>\n",
       "      <td>constant</td>\n",
       "      <td>negligible</td>\n",
       "      <td>none</td>\n",
       "    </tr>\n",
       "    <tr>\n",
       "      <th>2</th>\n",
       "      <td>1</td>\n",
       "      <td>&gt; 104 m3</td>\n",
       "      <td>Hawaiian / Strombolian</td>\n",
       "      <td>Gentle</td>\n",
       "      <td>100 m – 1 km</td>\n",
       "      <td>daily</td>\n",
       "      <td>minor</td>\n",
       "      <td>none</td>\n",
       "    </tr>\n",
       "    <tr>\n",
       "      <th>4</th>\n",
       "      <td>2</td>\n",
       "      <td>&gt; 106 m3</td>\n",
       "      <td>Strombolian / Vulcanian</td>\n",
       "      <td>Explosive</td>\n",
       "      <td>1–5 km</td>\n",
       "      <td>2 weeks</td>\n",
       "      <td>moderate</td>\n",
       "      <td>none</td>\n",
       "    </tr>\n",
       "    <tr>\n",
       "      <th>6</th>\n",
       "      <td>3</td>\n",
       "      <td>&gt; 107 m3</td>\n",
       "      <td>Strombolian / Vulcanian / Peléan / Sub-Plinian</td>\n",
       "      <td>Severe</td>\n",
       "      <td>3–15 km</td>\n",
       "      <td>3 months</td>\n",
       "      <td>substantial</td>\n",
       "      <td>possible</td>\n",
       "    </tr>\n",
       "    <tr>\n",
       "      <th>8</th>\n",
       "      <td>4</td>\n",
       "      <td>&gt; 0.1 km3</td>\n",
       "      <td>Peléan / Plinian / Sub-Plinian</td>\n",
       "      <td>Catastrophic</td>\n",
       "      <td>&gt; 10 km</td>\n",
       "      <td>18 months</td>\n",
       "      <td>substantial</td>\n",
       "      <td>definite</td>\n",
       "    </tr>\n",
       "    <tr>\n",
       "      <th>10</th>\n",
       "      <td>5</td>\n",
       "      <td>&gt; 1 km3</td>\n",
       "      <td>Peléan / Plinian</td>\n",
       "      <td>Cataclysmic</td>\n",
       "      <td>&gt; 10 km</td>\n",
       "      <td>12 years</td>\n",
       "      <td>substantial</td>\n",
       "      <td>significant</td>\n",
       "    </tr>\n",
       "    <tr>\n",
       "      <th>12</th>\n",
       "      <td>6</td>\n",
       "      <td>&gt; 10 km3</td>\n",
       "      <td>Plinian / Ultra-Plinian</td>\n",
       "      <td>Colossal</td>\n",
       "      <td>&gt; 20 km</td>\n",
       "      <td>50–100 years</td>\n",
       "      <td>substantial</td>\n",
       "      <td>substantial</td>\n",
       "    </tr>\n",
       "    <tr>\n",
       "      <th>14</th>\n",
       "      <td>7</td>\n",
       "      <td>&gt; 100 km3</td>\n",
       "      <td>Ultra-Plinian</td>\n",
       "      <td>Super-colossal</td>\n",
       "      <td>&gt; 20 km</td>\n",
       "      <td>500–1,000 years</td>\n",
       "      <td>substantial</td>\n",
       "      <td>substantial</td>\n",
       "    </tr>\n",
       "    <tr>\n",
       "      <th>16</th>\n",
       "      <td>8</td>\n",
       "      <td>&gt; 1,000 km3</td>\n",
       "      <td>Ultra-Plinian</td>\n",
       "      <td>Mega-colossal</td>\n",
       "      <td>&gt; 20 km</td>\n",
       "      <td>&gt; 50,000 years[3][4]</td>\n",
       "      <td>vast</td>\n",
       "      <td>vast</td>\n",
       "    </tr>\n",
       "  </tbody>\n",
       "</table>\n",
       "</div>"
      ],
      "text/plain": [
       "    VEI Ejecta  volume (bulk)                                  Classification  \\\n",
       "0     0              < 104 m3                                        Hawaiian   \n",
       "2     1              > 104 m3                          Hawaiian / Strombolian   \n",
       "4     2              > 106 m3                         Strombolian / Vulcanian   \n",
       "6     3              > 107 m3  Strombolian / Vulcanian / Peléan / Sub-Plinian   \n",
       "8     4             > 0.1 km3                  Peléan / Plinian / Sub-Plinian   \n",
       "10    5               > 1 km3                                Peléan / Plinian   \n",
       "12    6              > 10 km3                         Plinian / Ultra-Plinian   \n",
       "14    7             > 100 km3                                   Ultra-Plinian   \n",
       "16    8           > 1,000 km3                                   Ultra-Plinian   \n",
       "\n",
       "       Description         Plume           Periodicity Tropospheric injection  \\\n",
       "0         Effusive       < 100 m              constant             negligible   \n",
       "2           Gentle  100 m – 1 km                 daily                  minor   \n",
       "4        Explosive        1–5 km               2 weeks               moderate   \n",
       "6           Severe       3–15 km              3 months            substantial   \n",
       "8     Catastrophic       > 10 km             18 months            substantial   \n",
       "10     Cataclysmic       > 10 km              12 years            substantial   \n",
       "12        Colossal       > 20 km          50–100 years            substantial   \n",
       "14  Super-colossal       > 20 km       500–1,000 years            substantial   \n",
       "16   Mega-colossal       > 20 km  > 50,000 years[3][4]                   vast   \n",
       "\n",
       "   Stratospheric injection  \n",
       "0                     none  \n",
       "2                     none  \n",
       "4                     none  \n",
       "6                 possible  \n",
       "8                 definite  \n",
       "10             significant  \n",
       "12             substantial  \n",
       "14             substantial  \n",
       "16                    vast  "
      ]
     },
     "execution_count": 8,
     "metadata": {},
     "output_type": "execute_result"
    }
   ],
   "source": [
    "vei_df.head(11)"
   ]
  },
  {
   "cell_type": "code",
   "execution_count": 9,
   "metadata": {
    "tags": []
   },
   "outputs": [
    {
     "name": "stderr",
     "output_type": "stream",
     "text": [
      "C:\\Users\\Christopher Hornung\\AppData\\Local\\Temp\\ipykernel_29424\\2011598908.py:11: FutureWarning: The frame.append method is deprecated and will be removed from pandas in a future version. Use pandas.concat instead.\n",
      "  vei_df = vei_df.append(new_row1, ignore_index=True)\n",
      "C:\\Users\\Christopher Hornung\\AppData\\Local\\Temp\\ipykernel_29424\\2011598908.py:12: FutureWarning: The frame.append method is deprecated and will be removed from pandas in a future version. Use pandas.concat instead.\n",
      "  vei_df = vei_df.append(new_row2, ignore_index=True)\n"
     ]
    }
   ],
   "source": [
    "# Adjust some of the cells that need to be reformatted \n",
    "vei_df.loc[14, 'Periodicity'] = \"500–1000 years\"\n",
    "vei_df.loc[16, 'Periodicity'] = \"> 50000 years\"\n",
    "new_values = ['< 10^4 m^3', '> 10^4 m^3', '> 10^6 m^3','> 10^7 m^3','> 0.1 km^3','> 1 km3','> 10 km^3','> 100 km^3','> 1000 km^3']\n",
    "vei_df['Ejecta  volume (bulk)']=new_values\n",
    "\n",
    "# Row to add\n",
    "new_row1 = {'VEI':'Unknown VEI', 'Ejecta  volume (bulk)':None, 'Classification':None, 'Description':None, 'Plume':None, 'Periodicity':None, 'Tropospheric injection':None,'Stratospheric injection':None}\n",
    "new_row2 = {'VEI':'No confirmed eruptions', 'Ejecta  volume (bulk)':None, 'Classification':None, 'Description':None, 'Plume':None, 'Periodicity':None, 'Tropospheric injection':None,'Stratospheric injection':None}\n",
    "# Append the new rows to the DataFrame\n",
    "vei_df = vei_df.append(new_row1, ignore_index=True)\n",
    "vei_df = vei_df.append(new_row2, ignore_index=True)"
   ]
  },
  {
   "cell_type": "code",
   "execution_count": 10,
   "metadata": {
    "tags": []
   },
   "outputs": [
    {
     "data": {
      "text/html": [
       "<div>\n",
       "<style scoped>\n",
       "    .dataframe tbody tr th:only-of-type {\n",
       "        vertical-align: middle;\n",
       "    }\n",
       "\n",
       "    .dataframe tbody tr th {\n",
       "        vertical-align: top;\n",
       "    }\n",
       "\n",
       "    .dataframe thead th {\n",
       "        text-align: right;\n",
       "    }\n",
       "</style>\n",
       "<table border=\"1\" class=\"dataframe\">\n",
       "  <thead>\n",
       "    <tr style=\"text-align: right;\">\n",
       "      <th></th>\n",
       "      <th>VEI</th>\n",
       "      <th>Ejecta  volume (bulk)</th>\n",
       "      <th>Classification</th>\n",
       "      <th>Description</th>\n",
       "      <th>Plume</th>\n",
       "      <th>Periodicity</th>\n",
       "      <th>Tropospheric injection</th>\n",
       "      <th>Stratospheric injection</th>\n",
       "    </tr>\n",
       "  </thead>\n",
       "  <tbody>\n",
       "    <tr>\n",
       "      <th>0</th>\n",
       "      <td>0</td>\n",
       "      <td>&lt; 10^4 m^3</td>\n",
       "      <td>Hawaiian</td>\n",
       "      <td>Effusive</td>\n",
       "      <td>&lt; 100 m</td>\n",
       "      <td>constant</td>\n",
       "      <td>negligible</td>\n",
       "      <td>none</td>\n",
       "    </tr>\n",
       "    <tr>\n",
       "      <th>1</th>\n",
       "      <td>1</td>\n",
       "      <td>&gt; 10^4 m^3</td>\n",
       "      <td>Hawaiian / Strombolian</td>\n",
       "      <td>Gentle</td>\n",
       "      <td>100 m – 1 km</td>\n",
       "      <td>daily</td>\n",
       "      <td>minor</td>\n",
       "      <td>none</td>\n",
       "    </tr>\n",
       "    <tr>\n",
       "      <th>2</th>\n",
       "      <td>2</td>\n",
       "      <td>&gt; 10^6 m^3</td>\n",
       "      <td>Strombolian / Vulcanian</td>\n",
       "      <td>Explosive</td>\n",
       "      <td>1–5 km</td>\n",
       "      <td>2 weeks</td>\n",
       "      <td>moderate</td>\n",
       "      <td>none</td>\n",
       "    </tr>\n",
       "    <tr>\n",
       "      <th>3</th>\n",
       "      <td>3</td>\n",
       "      <td>&gt; 10^7 m^3</td>\n",
       "      <td>Strombolian / Vulcanian / Peléan / Sub-Plinian</td>\n",
       "      <td>Severe</td>\n",
       "      <td>3–15 km</td>\n",
       "      <td>3 months</td>\n",
       "      <td>substantial</td>\n",
       "      <td>possible</td>\n",
       "    </tr>\n",
       "    <tr>\n",
       "      <th>4</th>\n",
       "      <td>4</td>\n",
       "      <td>&gt; 0.1 km^3</td>\n",
       "      <td>Peléan / Plinian / Sub-Plinian</td>\n",
       "      <td>Catastrophic</td>\n",
       "      <td>&gt; 10 km</td>\n",
       "      <td>18 months</td>\n",
       "      <td>substantial</td>\n",
       "      <td>definite</td>\n",
       "    </tr>\n",
       "    <tr>\n",
       "      <th>5</th>\n",
       "      <td>5</td>\n",
       "      <td>&gt; 1 km3</td>\n",
       "      <td>Peléan / Plinian</td>\n",
       "      <td>Cataclysmic</td>\n",
       "      <td>&gt; 10 km</td>\n",
       "      <td>12 years</td>\n",
       "      <td>substantial</td>\n",
       "      <td>significant</td>\n",
       "    </tr>\n",
       "    <tr>\n",
       "      <th>6</th>\n",
       "      <td>6</td>\n",
       "      <td>&gt; 10 km^3</td>\n",
       "      <td>Plinian / Ultra-Plinian</td>\n",
       "      <td>Colossal</td>\n",
       "      <td>&gt; 20 km</td>\n",
       "      <td>50–100 years</td>\n",
       "      <td>substantial</td>\n",
       "      <td>substantial</td>\n",
       "    </tr>\n",
       "    <tr>\n",
       "      <th>7</th>\n",
       "      <td>7</td>\n",
       "      <td>&gt; 100 km^3</td>\n",
       "      <td>Ultra-Plinian</td>\n",
       "      <td>Super-colossal</td>\n",
       "      <td>&gt; 20 km</td>\n",
       "      <td>500–1000 years</td>\n",
       "      <td>substantial</td>\n",
       "      <td>substantial</td>\n",
       "    </tr>\n",
       "    <tr>\n",
       "      <th>8</th>\n",
       "      <td>8</td>\n",
       "      <td>&gt; 1000 km^3</td>\n",
       "      <td>Ultra-Plinian</td>\n",
       "      <td>Mega-colossal</td>\n",
       "      <td>&gt; 20 km</td>\n",
       "      <td>&gt; 50000 years</td>\n",
       "      <td>vast</td>\n",
       "      <td>vast</td>\n",
       "    </tr>\n",
       "    <tr>\n",
       "      <th>9</th>\n",
       "      <td>Unknown VEI</td>\n",
       "      <td>None</td>\n",
       "      <td>None</td>\n",
       "      <td>None</td>\n",
       "      <td>None</td>\n",
       "      <td>None</td>\n",
       "      <td>None</td>\n",
       "      <td>None</td>\n",
       "    </tr>\n",
       "    <tr>\n",
       "      <th>10</th>\n",
       "      <td>No confirmed eruptions</td>\n",
       "      <td>None</td>\n",
       "      <td>None</td>\n",
       "      <td>None</td>\n",
       "      <td>None</td>\n",
       "      <td>None</td>\n",
       "      <td>None</td>\n",
       "      <td>None</td>\n",
       "    </tr>\n",
       "  </tbody>\n",
       "</table>\n",
       "</div>"
      ],
      "text/plain": [
       "                       VEI Ejecta  volume (bulk)  \\\n",
       "0                        0            < 10^4 m^3   \n",
       "1                        1            > 10^4 m^3   \n",
       "2                        2            > 10^6 m^3   \n",
       "3                        3            > 10^7 m^3   \n",
       "4                        4            > 0.1 km^3   \n",
       "5                        5               > 1 km3   \n",
       "6                        6             > 10 km^3   \n",
       "7                        7            > 100 km^3   \n",
       "8                        8           > 1000 km^3   \n",
       "9              Unknown VEI                  None   \n",
       "10  No confirmed eruptions                  None   \n",
       "\n",
       "                                    Classification     Description  \\\n",
       "0                                         Hawaiian        Effusive   \n",
       "1                           Hawaiian / Strombolian          Gentle   \n",
       "2                          Strombolian / Vulcanian       Explosive   \n",
       "3   Strombolian / Vulcanian / Peléan / Sub-Plinian          Severe   \n",
       "4                   Peléan / Plinian / Sub-Plinian    Catastrophic   \n",
       "5                                 Peléan / Plinian     Cataclysmic   \n",
       "6                          Plinian / Ultra-Plinian        Colossal   \n",
       "7                                    Ultra-Plinian  Super-colossal   \n",
       "8                                    Ultra-Plinian   Mega-colossal   \n",
       "9                                             None            None   \n",
       "10                                            None            None   \n",
       "\n",
       "           Plume     Periodicity Tropospheric injection  \\\n",
       "0        < 100 m        constant             negligible   \n",
       "1   100 m – 1 km           daily                  minor   \n",
       "2         1–5 km         2 weeks               moderate   \n",
       "3        3–15 km        3 months            substantial   \n",
       "4        > 10 km       18 months            substantial   \n",
       "5        > 10 km        12 years            substantial   \n",
       "6        > 20 km    50–100 years            substantial   \n",
       "7        > 20 km  500–1000 years            substantial   \n",
       "8        > 20 km   > 50000 years                   vast   \n",
       "9           None            None                   None   \n",
       "10          None            None                   None   \n",
       "\n",
       "   Stratospheric injection  \n",
       "0                     none  \n",
       "1                     none  \n",
       "2                     none  \n",
       "3                 possible  \n",
       "4                 definite  \n",
       "5              significant  \n",
       "6              substantial  \n",
       "7              substantial  \n",
       "8                     vast  \n",
       "9                     None  \n",
       "10                    None  "
      ]
     },
     "execution_count": 10,
     "metadata": {},
     "output_type": "execute_result"
    }
   ],
   "source": [
    "vei_df.head(11)"
   ]
  },
  {
   "cell_type": "code",
   "execution_count": 11,
   "metadata": {
    "tags": []
   },
   "outputs": [],
   "source": [
    "# Write vei_df to csv\n",
    "vei_df.to_csv('Output/vei_df.csv', index=False, encoding='utf-8')"
   ]
  },
  {
   "cell_type": "markdown",
   "metadata": {
    "tags": []
   },
   "source": [
    "# Create PEI Pandas Table"
   ]
  },
  {
   "cell_type": "code",
   "execution_count": 12,
   "metadata": {
    "tags": []
   },
   "outputs": [
    {
     "data": {
      "text/html": [
       "<div>\n",
       "<style scoped>\n",
       "    .dataframe tbody tr th:only-of-type {\n",
       "        vertical-align: middle;\n",
       "    }\n",
       "\n",
       "    .dataframe tbody tr th {\n",
       "        vertical-align: top;\n",
       "    }\n",
       "\n",
       "    .dataframe thead th {\n",
       "        text-align: right;\n",
       "    }\n",
       "</style>\n",
       "<table border=\"1\" class=\"dataframe\">\n",
       "  <thead>\n",
       "    <tr style=\"text-align: right;\">\n",
       "      <th></th>\n",
       "      <th>Population Exposure Index</th>\n",
       "      <th>Number of Volcanoes</th>\n",
       "      <th>Percentage of Volcanoes (%)</th>\n",
       "      <th>Percentage of Total Weighted Population (%)</th>\n",
       "    </tr>\n",
       "  </thead>\n",
       "  <tbody>\n",
       "    <tr>\n",
       "      <th>0</th>\n",
       "      <td>1</td>\n",
       "      <td>197</td>\n",
       "      <td>12.7</td>\n",
       "      <td>0.0</td>\n",
       "    </tr>\n",
       "    <tr>\n",
       "      <th>1</th>\n",
       "      <td>2</td>\n",
       "      <td>642</td>\n",
       "      <td>41.4</td>\n",
       "      <td>0.4</td>\n",
       "    </tr>\n",
       "    <tr>\n",
       "      <th>2</th>\n",
       "      <td>3</td>\n",
       "      <td>157</td>\n",
       "      <td>10.1</td>\n",
       "      <td>1.0</td>\n",
       "    </tr>\n",
       "    <tr>\n",
       "      <th>3</th>\n",
       "      <td>4</td>\n",
       "      <td>178</td>\n",
       "      <td>11.5</td>\n",
       "      <td>3.5</td>\n",
       "    </tr>\n",
       "    <tr>\n",
       "      <th>4</th>\n",
       "      <td>5</td>\n",
       "      <td>188</td>\n",
       "      <td>12.1</td>\n",
       "      <td>11.4</td>\n",
       "    </tr>\n",
       "    <tr>\n",
       "      <th>5</th>\n",
       "      <td>6</td>\n",
       "      <td>128</td>\n",
       "      <td>8.3</td>\n",
       "      <td>23.8</td>\n",
       "    </tr>\n",
       "    <tr>\n",
       "      <th>6</th>\n",
       "      <td>7</td>\n",
       "      <td>61</td>\n",
       "      <td>3.9</td>\n",
       "      <td>59.9</td>\n",
       "    </tr>\n",
       "  </tbody>\n",
       "</table>\n",
       "</div>"
      ],
      "text/plain": [
       "   Population Exposure Index  Number of Volcanoes  \\\n",
       "0                          1                  197   \n",
       "1                          2                  642   \n",
       "2                          3                  157   \n",
       "3                          4                  178   \n",
       "4                          5                  188   \n",
       "5                          6                  128   \n",
       "6                          7                   61   \n",
       "\n",
       "   Percentage of Volcanoes (%)  Percentage of Total Weighted Population (%)  \n",
       "0                         12.7                                          0.0  \n",
       "1                         41.4                                          0.4  \n",
       "2                         10.1                                          1.0  \n",
       "3                         11.5                                          3.5  \n",
       "4                         12.1                                         11.4  \n",
       "5                          8.3                                         23.8  \n",
       "6                          3.9                                         59.9  "
      ]
     },
     "execution_count": 12,
     "metadata": {},
     "output_type": "execute_result"
    }
   ],
   "source": [
    "# Create dataframe from image from opulations around Holocene volcanoes and development of a Population Exposure IndexPublisher: Cambridge University PressEditors: Susan C. Loughlin, Steve Sparks, Sarah K. Brown, Susanna F. Jenkins, Charlotte Vye-Brown\n",
    "#https://www.researchgate.net/publication/280714829_Populations_around_Holocene_volcanoes_and_development_of_a_Population_Exposure_Index\n",
    "data = {\n",
    "    'Population Exposure Index': [1, 2, 3, 4, 5, 6, 7],\n",
    "    'Number of Volcanoes': [197, 642, 157, 178, 188, 128, 61],\n",
    "    'Percentage of Volcanoes (%)': [12.7, 41.4, 10.1, 11.5, 12.1, 8.3, 3.9],\n",
    "    'Percentage of Total Weighted Population (%)': [0, 0.4, 1.0, 3.5, 11.4, 23.8, 59.9]\n",
    "}\n",
    "\n",
    "pei_df = pd.DataFrame(data)\n",
    "pei_df"
   ]
  },
  {
   "cell_type": "code",
   "execution_count": 13,
   "metadata": {
    "tags": []
   },
   "outputs": [],
   "source": [
    "# Write vei_df to csv\n",
    "pei_df.to_csv('Output/pei_df.csv', index=False, encoding='utf-8')"
   ]
  },
  {
   "cell_type": "markdown",
   "metadata": {},
   "source": [
    "# Scrape VEI Pandas Table from Wikipedia's List of volcanic eruptions by death toll article"
   ]
  },
  {
   "cell_type": "code",
   "execution_count": 14,
   "metadata": {
    "tags": []
   },
   "outputs": [],
   "source": [
    "# Read in HTML tables into a DataFrame\n",
    "df = pd.read_html('https://en.wikipedia.org/wiki/List_of_volcanic_eruptions_by_death_toll',encoding='utf-8')\n",
    "volcanic_eruptions_by_death_toll_df= df[1]"
   ]
  },
  {
   "cell_type": "code",
   "execution_count": 15,
   "metadata": {
    "tags": []
   },
   "outputs": [],
   "source": [
    "volcanic_eruptions_by_death_toll_df=volcanic_eruptions_by_death_toll_df.iloc[:, :-1]"
   ]
  },
  {
   "cell_type": "code",
   "execution_count": 16,
   "metadata": {
    "tags": []
   },
   "outputs": [
    {
     "data": {
      "text/html": [
       "<div>\n",
       "<style scoped>\n",
       "    .dataframe tbody tr th:only-of-type {\n",
       "        vertical-align: middle;\n",
       "    }\n",
       "\n",
       "    .dataframe tbody tr th {\n",
       "        vertical-align: top;\n",
       "    }\n",
       "\n",
       "    .dataframe thead th {\n",
       "        text-align: right;\n",
       "    }\n",
       "</style>\n",
       "<table border=\"1\" class=\"dataframe\">\n",
       "  <thead>\n",
       "    <tr style=\"text-align: right;\">\n",
       "      <th></th>\n",
       "      <th>Human death toll</th>\n",
       "      <th>Volcano</th>\n",
       "      <th>VEI</th>\n",
       "      <th>Location</th>\n",
       "      <th>Year</th>\n",
       "      <th>Eruption</th>\n",
       "    </tr>\n",
       "  </thead>\n",
       "  <tbody>\n",
       "    <tr>\n",
       "      <th>0</th>\n",
       "      <td>71,000 to 250,100+</td>\n",
       "      <td>Mount Tambora</td>\n",
       "      <td>7</td>\n",
       "      <td>Indonesia</td>\n",
       "      <td>1815</td>\n",
       "      <td>1815 eruption of Mount Tambora, Year Without a...</td>\n",
       "    </tr>\n",
       "    <tr>\n",
       "      <th>1</th>\n",
       "      <td>36,000+</td>\n",
       "      <td>Krakatoa</td>\n",
       "      <td>6</td>\n",
       "      <td>Indonesia</td>\n",
       "      <td>1883</td>\n",
       "      <td>1883 eruption of Krakatoa</td>\n",
       "    </tr>\n",
       "    <tr>\n",
       "      <th>2</th>\n",
       "      <td>30000</td>\n",
       "      <td>Mount Pelée</td>\n",
       "      <td>4</td>\n",
       "      <td>Martinique</td>\n",
       "      <td>1902</td>\n",
       "      <td>1902 eruption of Mount Pelée</td>\n",
       "    </tr>\n",
       "    <tr>\n",
       "      <th>3</th>\n",
       "      <td>23000</td>\n",
       "      <td>Nevado del Ruiz</td>\n",
       "      <td>3</td>\n",
       "      <td>Colombia</td>\n",
       "      <td>1985</td>\n",
       "      <td>Armero tragedy</td>\n",
       "    </tr>\n",
       "    <tr>\n",
       "      <th>4</th>\n",
       "      <td>20,000~ (estimated)</td>\n",
       "      <td>Santorini</td>\n",
       "      <td>7</td>\n",
       "      <td>Greece</td>\n",
       "      <td>c. 1600 BC</td>\n",
       "      <td>Minoan eruption</td>\n",
       "    </tr>\n",
       "    <tr>\n",
       "      <th>5</th>\n",
       "      <td>15,000 to 20,000</td>\n",
       "      <td>Mount Samalas</td>\n",
       "      <td>7</td>\n",
       "      <td>Indonesia</td>\n",
       "      <td>1257</td>\n",
       "      <td>1257 Samalas eruption</td>\n",
       "    </tr>\n",
       "    <tr>\n",
       "      <th>6</th>\n",
       "      <td>15000</td>\n",
       "      <td>Mount Unzen</td>\n",
       "      <td>2</td>\n",
       "      <td>Japan</td>\n",
       "      <td>1792</td>\n",
       "      <td>1792 Unzen earthquake and tsunami</td>\n",
       "    </tr>\n",
       "    <tr>\n",
       "      <th>7</th>\n",
       "      <td>13,000+ (estimated)</td>\n",
       "      <td>Mount Vesuvius</td>\n",
       "      <td>5</td>\n",
       "      <td>Italy</td>\n",
       "      <td>79</td>\n",
       "      <td>Eruption of Mount Vesuvius in 79 AD</td>\n",
       "    </tr>\n",
       "    <tr>\n",
       "      <th>8</th>\n",
       "      <td>10,000+</td>\n",
       "      <td>Laki and Grímsvötn</td>\n",
       "      <td>4</td>\n",
       "      <td>Iceland</td>\n",
       "      <td>1783</td>\n",
       "      <td>Laki#1783 eruption</td>\n",
       "    </tr>\n",
       "    <tr>\n",
       "      <th>9</th>\n",
       "      <td>10000</td>\n",
       "      <td>Kelud</td>\n",
       "      <td>5</td>\n",
       "      <td>Indonesia</td>\n",
       "      <td>1586</td>\n",
       "      <td>NaN</td>\n",
       "    </tr>\n",
       "  </tbody>\n",
       "</table>\n",
       "</div>"
      ],
      "text/plain": [
       "      Human death toll             Volcano VEI    Location        Year  \\\n",
       "0   71,000 to 250,100+       Mount Tambora   7   Indonesia        1815   \n",
       "1              36,000+            Krakatoa   6   Indonesia        1883   \n",
       "2                30000         Mount Pelée   4  Martinique        1902   \n",
       "3                23000     Nevado del Ruiz   3    Colombia        1985   \n",
       "4  20,000~ (estimated)           Santorini   7      Greece  c. 1600 BC   \n",
       "5     15,000 to 20,000       Mount Samalas   7   Indonesia        1257   \n",
       "6                15000         Mount Unzen   2       Japan        1792   \n",
       "7  13,000+ (estimated)      Mount Vesuvius   5       Italy          79   \n",
       "8              10,000+  Laki and Grímsvötn   4     Iceland        1783   \n",
       "9                10000               Kelud   5   Indonesia        1586   \n",
       "\n",
       "                                            Eruption  \n",
       "0  1815 eruption of Mount Tambora, Year Without a...  \n",
       "1                          1883 eruption of Krakatoa  \n",
       "2                       1902 eruption of Mount Pelée  \n",
       "3                                     Armero tragedy  \n",
       "4                                    Minoan eruption  \n",
       "5                              1257 Samalas eruption  \n",
       "6                  1792 Unzen earthquake and tsunami  \n",
       "7                Eruption of Mount Vesuvius in 79 AD  \n",
       "8                                 Laki#1783 eruption  \n",
       "9                                                NaN  "
      ]
     },
     "execution_count": 16,
     "metadata": {},
     "output_type": "execute_result"
    }
   ],
   "source": [
    "volcanic_eruptions_by_death_toll_df.head(10)"
   ]
  },
  {
   "cell_type": "code",
   "execution_count": 17,
   "metadata": {
    "tags": []
   },
   "outputs": [
    {
     "name": "stdout",
     "output_type": "stream",
     "text": [
      "      Human death toll             Volcano VEI    Location        Year\n",
      "0   71,000 to 250,100+       Mount Tambora   7   Indonesia        1815\n",
      "1              36,000+            Krakatoa   6   Indonesia        1883\n",
      "2                30000         Mount Pelée   4  Martinique        1902\n",
      "3                23000     Nevado del Ruiz   3    Colombia        1985\n",
      "4  20,000~ (estimated)           Santorini   7      Greece  c. 1600 BC\n",
      "5     15,000 to 20,000       Mount Samalas   7   Indonesia        1257\n",
      "6                15000         Mount Unzen   2       Japan        1792\n",
      "7  13,000+ (estimated)      Mount Vesuvius   5       Italy          79\n",
      "8              10,000+  Laki and Grímsvötn   4     Iceland        1783\n",
      "9                10000               Kelud   5   Indonesia        1586\n"
     ]
    }
   ],
   "source": [
    "# Drop Eruption Column\n",
    "volcanic_eruptions_by_death_toll_df = volcanic_eruptions_by_death_toll_df.drop('Eruption', axis = 1)\n",
    "\n",
    "print(volcanic_eruptions_by_death_toll_df.head(10))"
   ]
  },
  {
   "cell_type": "code",
   "execution_count": 18,
   "metadata": {
    "tags": []
   },
   "outputs": [
    {
     "name": "stdout",
     "output_type": "stream",
     "text": [
      "     Human death toll             Volcano VEI    Location        Year\n",
      "0  71,000 to 250,100+       Mount Tambora   7   Indonesia        1815\n",
      "1              36,000            Krakatoa   6   Indonesia        1883\n",
      "2               30000         Mount Pelée   4  Martinique        1902\n",
      "3               23000     Nevado del Ruiz   3    Colombia        1985\n",
      "4              20,000           Santorini   7      Greece  c. 1600 BC\n",
      "5              15,000       Mount Samalas   7   Indonesia        1257\n",
      "6               15000         Mount Unzen   2       Japan        1792\n",
      "7              13,000      Mount Vesuvius   5       Italy          79\n",
      "8              10,000  Laki and Grímsvötn   4     Iceland        1783\n",
      "9               10000               Kelud   5   Indonesia        1586\n"
     ]
    }
   ],
   "source": [
    "# Changing Special Values\n",
    "volcanic_eruptions_by_death_toll_df.loc[1, 'Human death toll'] = \"36,000\"\n",
    "volcanic_eruptions_by_death_toll_df.loc[4, 'Human death toll'] = \"20,000\"\n",
    "volcanic_eruptions_by_death_toll_df.loc[5, 'Human death toll'] = \"15,000\"\n",
    "volcanic_eruptions_by_death_toll_df.loc[7, 'Human death toll'] = \"13,000\"\n",
    "volcanic_eruptions_by_death_toll_df.loc[8, 'Human death toll'] = \"10,000\"\n",
    "volcanic_eruptions_by_death_toll_df.loc[39, 'Human death toll'] = \"400\"\n",
    "volcanic_eruptions_by_death_toll_df.loc[47, 'Human death toll'] = \"160\"\n",
    "volcanic_eruptions_by_death_toll_df.loc[60, 'Human death toll'] = \"70\"\n",
    "\n",
    "print(volcanic_eruptions_by_death_toll_df.head(10))"
   ]
  },
  {
   "cell_type": "code",
   "execution_count": 19,
   "metadata": {
    "tags": []
   },
   "outputs": [
    {
     "name": "stdout",
     "output_type": "stream",
     "text": [
      "    Human Death Toll (Min) Human Death Toll (Max)          Volcano  \\\n",
      "0       71,000 to 250,100+     71,000 to 250,100+    Mount Tambora   \n",
      "1                   36,000                 36,000         Krakatoa   \n",
      "2                    30000                  30000      Mount Pelée   \n",
      "3                    23000                  23000  Nevado del Ruiz   \n",
      "4                   20,000                 20,000        Santorini   \n",
      "..                     ...                    ...              ...   \n",
      "109                      1                      1     Cumbre Vieja   \n",
      "110                      1                      1        Stromboli   \n",
      "111                      1                      1          Chaitén   \n",
      "112                      1                      1     Raoul Island   \n",
      "113                      1                      1          Eldfell   \n",
      "\n",
      "        Location        Year VEI  \n",
      "0      Indonesia        1815   7  \n",
      "1      Indonesia        1883   6  \n",
      "2     Martinique        1902   4  \n",
      "3       Colombia        1985   3  \n",
      "4         Greece  c. 1600 BC   7  \n",
      "..           ...         ...  ..  \n",
      "109        Spain        2021   3  \n",
      "110        Italy        2019   2  \n",
      "111        Chile        2008   4  \n",
      "112  New Zealand        2006   1  \n",
      "113      Iceland        1973   3  \n",
      "\n",
      "[114 rows x 6 columns]\n"
     ]
    }
   ],
   "source": [
    "# Renaming Human Death Toll to Human Death Toll (Min) Column\n",
    "volcanic_eruptions_by_death_toll_df.rename(columns={'Human death toll': 'Human Death Toll (Min)'}, inplace=True)\n",
    "\n",
    "# Copy Human Death Toll (Min) to create Human Death Toll (Max)\n",
    "volcanic_eruptions_by_death_toll_df['Human Death Toll (Max)'] = volcanic_eruptions_by_death_toll_df['Human Death Toll (Min)']\n",
    "\n",
    "# Rearrange column names\n",
    "volcanic_eruptions_by_death_toll_df = volcanic_eruptions_by_death_toll_df[['Human Death Toll (Min)', 'Human Death Toll (Max)', 'Volcano', 'Location', 'Year', 'VEI']]\n",
    "\n",
    "# Print volcanic_eruptions_by_death_toll_df\n",
    "print(volcanic_eruptions_by_death_toll_df)"
   ]
  },
  {
   "cell_type": "code",
   "execution_count": 20,
   "metadata": {
    "tags": []
   },
   "outputs": [
    {
     "data": {
      "text/plain": [
       "Human Death Toll (Min)    object\n",
       "Human Death Toll (Max)    object\n",
       "Volcano                   object\n",
       "Location                  object\n",
       "Year                      object\n",
       "VEI                       object\n",
       "dtype: object"
      ]
     },
     "execution_count": 20,
     "metadata": {},
     "output_type": "execute_result"
    }
   ],
   "source": [
    "# Changing Special Values\n",
    "volcanic_eruptions_by_death_toll_df.loc[0, 'Human Death Toll (Min)'] = \"71,000\"\n",
    "volcanic_eruptions_by_death_toll_df.loc[0, 'Human Death Toll (Max)'] = \"250,000\"\n",
    "volcanic_eruptions_by_death_toll_df.loc[5, 'Human Death Toll (Min)'] = \"15,000\"\n",
    "volcanic_eruptions_by_death_toll_df.loc[5, 'Human Death Toll (Max)'] = \"20,000\"\n",
    "volcanic_eruptions_by_death_toll_df.loc[40, 'Human Death Toll (Min)'] = \"350\"\n",
    "volcanic_eruptions_by_death_toll_df.loc[40, 'Human Death Toll (Max)'] = \"400\"\n",
    "volcanic_eruptions_by_death_toll_df.loc[46, 'Human Death Toll (Min)'] = \"190\"\n",
    "volcanic_eruptions_by_death_toll_df.loc[46, 'Human Death Toll (Max)'] = \"2900\"\n",
    "volcanic_eruptions_by_death_toll_df.loc[54, 'Human Death Toll (Min)'] = \"108\"\n",
    "volcanic_eruptions_by_death_toll_df.loc[54, 'Human Death Toll (Max)'] = \"120\"\n",
    "volcanic_eruptions_by_death_toll_df.loc[86, 'Human Death Toll (Min)'] = \"15\"\n",
    "volcanic_eruptions_by_death_toll_df.loc[86, 'Human Death Toll (Max)'] = \"30\"\n",
    "volcanic_eruptions_by_death_toll_df.loc[39, 'Location'] = \"United States\"\n",
    "volcanic_eruptions_by_death_toll_df.loc[19, 'VEI'] = None\n",
    "volcanic_eruptions_by_death_toll_df.loc[48, 'VEI'] = None\n",
    "volcanic_eruptions_by_death_toll_df.loc[89, 'VEI'] = None\n",
    "volcanic_eruptions_by_death_toll_df.loc[48, 'VEI'] = None\n",
    "volcanic_eruptions_by_death_toll_df.loc[89, 'VEI'] = None\n",
    "volcanic_eruptions_by_death_toll_df.loc[19, 'Year'] = 1700\n",
    "volcanic_eruptions_by_death_toll_df.loc[4, 'Year'] = -1600\n",
    "volcanic_eruptions_by_death_toll_df['Location'] = volcanic_eruptions_by_death_toll_df['Location'].replace('St. Vincent', 'Saint Vincent and the Grenadines')\n",
    "volcanic_eruptions_by_death_toll_df.dtypes"
   ]
  },
  {
   "cell_type": "code",
   "execution_count": 21,
   "metadata": {
    "tags": []
   },
   "outputs": [],
   "source": [
    "# Function to clean and convert to integer\n",
    "def clean_and_convert(value):\n",
    "    try:\n",
    "        # Remove commas\n",
    "        value = value.replace(',','')\n",
    "        ## Convert to integer\n",
    "        return int(value)\n",
    "    except ValueError:\n",
    "        # Handle cases where the value is not convertible to int\n",
    "        return None"
   ]
  },
  {
   "cell_type": "code",
   "execution_count": 22,
   "metadata": {
    "tags": []
   },
   "outputs": [],
   "source": [
    "# Apply the function to 'Human Death Toll (Min)' column\n",
    "volcanic_eruptions_by_death_toll_df['Human Death Toll (Min)'] = volcanic_eruptions_by_death_toll_df['Human Death Toll (Min)'].apply(clean_and_convert)\n",
    "\n",
    "# Apply the function to 'Human Death Toll (Max)' column\n",
    "volcanic_eruptions_by_death_toll_df['Human Death Toll (Max)'] = volcanic_eruptions_by_death_toll_df['Human Death Toll (Max)'].apply(clean_and_convert)"
   ]
  },
  {
   "cell_type": "code",
   "execution_count": 23,
   "metadata": {
    "tags": []
   },
   "outputs": [
    {
     "name": "stdout",
     "output_type": "stream",
     "text": [
      "     Human Death Toll (Min)  Human Death Toll (Max)          Volcano  \\\n",
      "0                   71000.0                250000.0    Mount Tambora   \n",
      "1                   36000.0                 36000.0         Krakatoa   \n",
      "2                   30000.0                 30000.0      Mount Pelée   \n",
      "3                   23000.0                 23000.0  Nevado del Ruiz   \n",
      "4                   20000.0                 20000.0        Santorini   \n",
      "..                      ...                     ...              ...   \n",
      "109                     1.0                     1.0     Cumbre Vieja   \n",
      "110                     1.0                     1.0        Stromboli   \n",
      "111                     1.0                     1.0          Chaitén   \n",
      "112                     1.0                     1.0     Raoul Island   \n",
      "113                     1.0                     1.0          Eldfell   \n",
      "\n",
      "        Location   Year VEI  \n",
      "0      Indonesia   1815   7  \n",
      "1      Indonesia   1883   6  \n",
      "2     Martinique   1902   4  \n",
      "3       Colombia   1985   3  \n",
      "4         Greece  -1600   7  \n",
      "..           ...    ...  ..  \n",
      "109        Spain   2021   3  \n",
      "110        Italy   2019   2  \n",
      "111        Chile   2008   4  \n",
      "112  New Zealand   2006   1  \n",
      "113      Iceland   1973   3  \n",
      "\n",
      "[114 rows x 6 columns]\n"
     ]
    }
   ],
   "source": [
    "# Change Human Death Toll Columns to Float\n",
    "volcanic_eruptions_by_death_toll_df['Human Death Toll (Min)'] = volcanic_eruptions_by_death_toll_df['Human Death Toll (Min)'].astype(float)\n",
    "volcanic_eruptions_by_death_toll_df['Human Death Toll (Max)'] = volcanic_eruptions_by_death_toll_df['Human Death Toll (Max)'].astype(float)\n",
    "\n",
    "print(volcanic_eruptions_by_death_toll_df)"
   ]
  },
  {
   "cell_type": "code",
   "execution_count": 24,
   "metadata": {
    "tags": []
   },
   "outputs": [],
   "source": [
    "# Write volcanic_eruptions_by_death_toll_df to csv\n",
    "volcanic_eruptions_by_death_toll_df.to_csv('Output/volcanic_eruptions_by_death_toll_df.csv', index=True, index_label='index',encoding='utf-8')"
   ]
  },
  {
   "cell_type": "markdown",
   "metadata": {},
   "source": [
    "# Scrape Volcano - Population Exposure Index(GVM) JSON from United Nations Office for Disaster Risk Reduction (UNDRR)"
   ]
  },
  {
   "cell_type": "code",
   "execution_count": 25,
   "metadata": {
    "tags": []
   },
   "outputs": [],
   "source": [
    "import requests\n",
    "import json\n",
    "import csv\n",
    "\n",
    "url = \"https://data.humdata.org/dataset/a60ac839-920d-435a-bf7d-25855602699d/resource/7234d067-2d74-449a-9c61-22ae6d98d928/download/volcano.json\""
   ]
  },
  {
   "cell_type": "code",
   "execution_count": 26,
   "metadata": {
    "tags": []
   },
   "outputs": [
    {
     "name": "stdout",
     "output_type": "stream",
     "text": [
      "Data has been successfully exported to volcano_data.json.\n"
     ]
    }
   ],
   "source": [
    "try:\n",
    "    response = requests.get(url)\n",
    "    response.raise_for_status()  # Raise an exception if the request was unsuccessful\n",
    "\n",
    "    # Parse the JSON data\n",
    "    json_data = response.json()\n",
    "\n",
    "   # Export the data to the JSON file\n",
    "    with open('Output/volcano_data.json', 'w',encoding='utf-8') as outfile:\n",
    "        json.dump(json_data, outfile)\n",
    "\n",
    "    print(f'Data has been successfully exported to volcano_data.json.')\n",
    "\n",
    "except requests.exceptions.RequestException as e:\n",
    "    print(\"Error:\", e)"
   ]
  },
  {
   "cell_type": "code",
   "execution_count": 27,
   "metadata": {
    "tags": []
   },
   "outputs": [],
   "source": [
    "with open('Output/volcano_data.json', 'r',encoding='utf-8') as file:\n",
    "    data = json.load(file)"
   ]
  },
  {
   "cell_type": "code",
   "execution_count": 28,
   "metadata": {
    "tags": []
   },
   "outputs": [
    {
     "ename": "PermissionError",
     "evalue": "[Errno 13] Permission denied: 'Output/volcano_data.csv'",
     "output_type": "error",
     "traceback": [
      "\u001b[1;31m---------------------------------------------------------------------------\u001b[0m",
      "\u001b[1;31mPermissionError\u001b[0m                           Traceback (most recent call last)",
      "Cell \u001b[1;32mIn[28], line 11\u001b[0m\n\u001b[0;32m      8\u001b[0m csv_header \u001b[38;5;241m=\u001b[39m [\u001b[38;5;124m'\u001b[39m\u001b[38;5;124mVolcanoID\u001b[39m\u001b[38;5;124m'\u001b[39m,\u001b[38;5;124m'\u001b[39m\u001b[38;5;124mV_Name\u001b[39m\u001b[38;5;124m'\u001b[39m,\u001b[38;5;124m'\u001b[39m\u001b[38;5;124mCountry\u001b[39m\u001b[38;5;124m'\u001b[39m,\u001b[38;5;124m'\u001b[39m\u001b[38;5;124mRegion\u001b[39m\u001b[38;5;124m'\u001b[39m,\u001b[38;5;124m'\u001b[39m\u001b[38;5;124mSubregion\u001b[39m\u001b[38;5;124m'\u001b[39m,\u001b[38;5;124m'\u001b[39m\u001b[38;5;124mLatitude\u001b[39m\u001b[38;5;124m'\u001b[39m,\u001b[38;5;124m'\u001b[39m\u001b[38;5;124mLongitude\u001b[39m\u001b[38;5;124m'\u001b[39m,\u001b[38;5;124m'\u001b[39m\u001b[38;5;124mPEI\u001b[39m\u001b[38;5;124m'\u001b[39m,\u001b[38;5;124m'\u001b[39m\u001b[38;5;124mH_active\u001b[39m\u001b[38;5;124m'\u001b[39m,\u001b[38;5;124m'\u001b[39m\u001b[38;5;124mVEI_Holoce\u001b[39m\u001b[38;5;124m'\u001b[39m,\u001b[38;5;124m'\u001b[39m\u001b[38;5;124mhazard\u001b[39m\u001b[38;5;124m'\u001b[39m,\u001b[38;5;124m'\u001b[39m\u001b[38;5;124mclass\u001b[39m\u001b[38;5;124m'\u001b[39m,\u001b[38;5;124m'\u001b[39m\u001b[38;5;124mrisk\u001b[39m\u001b[38;5;124m'\u001b[39m,\u001b[38;5;124m'\u001b[39m\u001b[38;5;124mfield_14\u001b[39m\u001b[38;5;124m'\u001b[39m, \u001b[38;5;124m'\u001b[39m\u001b[38;5;124mfield_15\u001b[39m\u001b[38;5;124m'\u001b[39m]\n\u001b[0;32m     10\u001b[0m \u001b[38;5;66;03m# Write the JSON data to the CSV file\u001b[39;00m\n\u001b[1;32m---> 11\u001b[0m \u001b[38;5;28;01mwith\u001b[39;00m \u001b[38;5;28;43mopen\u001b[39;49m\u001b[43m(\u001b[49m\u001b[43mcsv_file\u001b[49m\u001b[43m,\u001b[49m\u001b[43m \u001b[49m\u001b[38;5;124;43m'\u001b[39;49m\u001b[38;5;124;43mw\u001b[39;49m\u001b[38;5;124;43m'\u001b[39;49m\u001b[43m,\u001b[49m\u001b[43m \u001b[49m\u001b[43mnewline\u001b[49m\u001b[38;5;241;43m=\u001b[39;49m\u001b[38;5;124;43m'\u001b[39;49m\u001b[38;5;124;43m'\u001b[39;49m\u001b[43m,\u001b[49m\u001b[43mencoding\u001b[49m\u001b[38;5;241;43m=\u001b[39;49m\u001b[38;5;124;43m'\u001b[39;49m\u001b[38;5;124;43mutf-8\u001b[39;49m\u001b[38;5;124;43m'\u001b[39;49m\u001b[43m)\u001b[49m \u001b[38;5;28;01mas\u001b[39;00m csv_file:\n\u001b[0;32m     12\u001b[0m     writer \u001b[38;5;241m=\u001b[39m csv\u001b[38;5;241m.\u001b[39mDictWriter(csv_file, fieldnames\u001b[38;5;241m=\u001b[39mcsv_header)\n\u001b[0;32m     14\u001b[0m     \u001b[38;5;66;03m# Write the header row\u001b[39;00m\n",
      "File \u001b[1;32m~\\anaconda3\\envs\\dev\\lib\\site-packages\\IPython\\core\\interactiveshell.py:284\u001b[0m, in \u001b[0;36m_modified_open\u001b[1;34m(file, *args, **kwargs)\u001b[0m\n\u001b[0;32m    277\u001b[0m \u001b[38;5;28;01mif\u001b[39;00m file \u001b[38;5;129;01min\u001b[39;00m {\u001b[38;5;241m0\u001b[39m, \u001b[38;5;241m1\u001b[39m, \u001b[38;5;241m2\u001b[39m}:\n\u001b[0;32m    278\u001b[0m     \u001b[38;5;28;01mraise\u001b[39;00m \u001b[38;5;167;01mValueError\u001b[39;00m(\n\u001b[0;32m    279\u001b[0m         \u001b[38;5;124mf\u001b[39m\u001b[38;5;124m\"\u001b[39m\u001b[38;5;124mIPython won\u001b[39m\u001b[38;5;124m'\u001b[39m\u001b[38;5;124mt let you open fd=\u001b[39m\u001b[38;5;132;01m{\u001b[39;00mfile\u001b[38;5;132;01m}\u001b[39;00m\u001b[38;5;124m by default \u001b[39m\u001b[38;5;124m\"\u001b[39m\n\u001b[0;32m    280\u001b[0m         \u001b[38;5;124m\"\u001b[39m\u001b[38;5;124mas it is likely to crash IPython. If you know what you are doing, \u001b[39m\u001b[38;5;124m\"\u001b[39m\n\u001b[0;32m    281\u001b[0m         \u001b[38;5;124m\"\u001b[39m\u001b[38;5;124myou can use builtins\u001b[39m\u001b[38;5;124m'\u001b[39m\u001b[38;5;124m open.\u001b[39m\u001b[38;5;124m\"\u001b[39m\n\u001b[0;32m    282\u001b[0m     )\n\u001b[1;32m--> 284\u001b[0m \u001b[38;5;28;01mreturn\u001b[39;00m io_open(file, \u001b[38;5;241m*\u001b[39margs, \u001b[38;5;241m*\u001b[39m\u001b[38;5;241m*\u001b[39mkwargs)\n",
      "\u001b[1;31mPermissionError\u001b[0m: [Errno 13] Permission denied: 'Output/volcano_data.csv'"
     ]
    }
   ],
   "source": [
    "# Read the JSON data from the file\n",
    "with open('Output/volcano_data.json', 'r',encoding='utf-8') as json_file:\n",
    "    data = json.load(json_file)\n",
    "# Specify the CSV file where you want to write the data\n",
    "csv_file = 'Output/volcano_data.csv'\n",
    "\n",
    "# Define the CSV header (based on the keys in the JSON objects)\n",
    "csv_header = ['VolcanoID','V_Name','Country','Region','Subregion','Latitude','Longitude','PEI','H_active','VEI_Holoce','hazard','class','risk','field_14', 'field_15']\n",
    "\n",
    "# Write the JSON data to the CSV file\n",
    "with open(csv_file, 'w', newline='',encoding='utf-8') as csv_file:\n",
    "    writer = csv.DictWriter(csv_file, fieldnames=csv_header)\n",
    "    \n",
    "    # Write the header row\n",
    "    writer.writeheader()\n",
    "    \n",
    "    # Write the data rows\n",
    "    for item in data['features']:\n",
    "        writer.writerow(item['properties'])\n",
    "\n",
    "print(f'JSON data has been successfully written to {csv_file}.')"
   ]
  },
  {
   "cell_type": "code",
   "execution_count": null,
   "metadata": {
    "tags": []
   },
   "outputs": [],
   "source": [
    "#Import and visualize volcano data\n",
    "volcano_df = pd.read_csv('Output/volcano_data.csv', encoding='utf-8')\n",
    "# Drop field_14 Column\n",
    "volcano_df = volcano_df.drop('field_14', axis = 1)\n",
    "# Drop field_15 Column\n",
    "volcano_df = volcano_df.drop('field_15', axis = 1)\n",
    "volcano_df.head(10)"
   ]
  },
  {
   "cell_type": "code",
   "execution_count": null,
   "metadata": {
    "tags": []
   },
   "outputs": [],
   "source": [
    "#Cleanup Data for SQL import\n",
    "volcano_df['V_Name'] = volcano_df['V_Name'].str.replace(',', '', regex=True)\n",
    "volcano_df['Region'] = volcano_df['Region'].str.replace(',', '', regex=True)\n",
    "volcano_df['Subregion'] = volcano_df['Subregion'].str.replace(',', '', regex=True)\n",
    "volcano_df.replace({np.nan: 'None'}, inplace=True)"
   ]
  },
  {
   "cell_type": "code",
   "execution_count": null,
   "metadata": {
    "tags": []
   },
   "outputs": [],
   "source": [
    "#Cleanup Data for SQL import (cont.)\n",
    "\n",
    "# Split the 'Country' column by \"-\"\n",
    "volcano_df['Country'] = volcano_df['Country'].str.split('-').str[0]\n",
    "# Cleanup County names for key relations in SQL\n",
    "volcano_df['Country'] = volcano_df['Country'].replace('DR Congo', 'Democratic Republic of the Congo')\n",
    "volcano_df['Country'] = volcano_df['Country'].replace('Burma (Myanmar)', 'Myanmar')\n",
    "volcano_df['Country'] = volcano_df['Country'].replace('Japan ', 'Japan')\n",
    "#Taiwan is not a member of the United Nations, largely due to the One-China Policy, which is supported by the majority of UN member states.\n",
    "#One-China Policy: The People's Republic of China (PRC), which governs mainland China, maintains that Taiwan is an integral part of its territory\n",
    "#To linke SQL keys to UN Data Set the following replacement has to be made\n",
    "volcano_df['Country'] = volcano_df['Country'].replace('Taiwan', 'China')"
   ]
  },
  {
   "cell_type": "code",
   "execution_count": null,
   "metadata": {
    "tags": []
   },
   "outputs": [],
   "source": [
    "volcano_df.head(10)"
   ]
  },
  {
   "cell_type": "code",
   "execution_count": null,
   "metadata": {
    "tags": []
   },
   "outputs": [],
   "source": [
    "volcano_df.to_csv('Output/volcano_data.csv', index=False, encoding='utf-8')"
   ]
  },
  {
   "cell_type": "markdown",
   "metadata": {},
   "source": [
    "# Create a new DataFrame with the sum of volcanoes for each country"
   ]
  },
  {
   "cell_type": "code",
   "execution_count": null,
   "metadata": {
    "tags": []
   },
   "outputs": [],
   "source": [
    "# Create a new DataFrame with the sum of volcanoes for each country\n",
    "volcanoes_by_country_df = volcano_df['Country'].value_counts().reset_index()\n",
    "volcanoes_by_country_df.columns = ['Country', 'Total Volcanoes']\n",
    "# Create a new DataFrame with the sum of active volcanoes for each country\n",
    "active_volcanoes = volcano_df.groupby('Country')['H_active'].sum().reset_index()"
   ]
  },
  {
   "cell_type": "code",
   "execution_count": null,
   "metadata": {
    "tags": []
   },
   "outputs": [],
   "source": [
    "# Merge the two DataFrames by Country\n",
    "merged_df = volcanoes_by_country_df.merge(active_volcanoes, on='Country', how='inner')\n",
    "merged_df = merged_df.rename(columns={'H_active': 'Active Volcanoes'})\n",
    "merged_df.head(10)"
   ]
  },
  {
   "cell_type": "code",
   "execution_count": null,
   "metadata": {
    "tags": []
   },
   "outputs": [],
   "source": [
    "merged_df.to_csv('Output/volcanoes_by_country2.csv', index=False, encoding='utf-8')"
   ]
  },
  {
   "cell_type": "markdown",
   "metadata": {
    "tags": []
   },
   "source": [
    "# Scrape VEI Pandas Table from Wikipedia's List of countries by Human Development Index article"
   ]
  },
  {
   "cell_type": "code",
   "execution_count": null,
   "metadata": {
    "tags": []
   },
   "outputs": [],
   "source": [
    "# Read in HTML tables into a DataFrame\n",
    "df = pd.read_html('https://en.wikipedia.org/wiki/List_of_countries_by_Human_Development_Index',encoding='utf-8')\n",
    "human_development_index_df= df[1]"
   ]
  },
  {
   "cell_type": "code",
   "execution_count": null,
   "metadata": {
    "tags": []
   },
   "outputs": [],
   "source": [
    "human_development_index_df.head(10)"
   ]
  },
  {
   "cell_type": "code",
   "execution_count": null,
   "metadata": {
    "tags": []
   },
   "outputs": [],
   "source": [
    "# remove the second level of columns (i.e., the 'Examples' columns)\n",
    "human_development_index_df.columns = human_development_index_df.columns.droplevel(level=1)"
   ]
  },
  {
   "cell_type": "code",
   "execution_count": null,
   "metadata": {
    "tags": []
   },
   "outputs": [],
   "source": [
    "human_development_index_df.head(10)"
   ]
  },
  {
   "cell_type": "code",
   "execution_count": null,
   "metadata": {
    "tags": []
   },
   "outputs": [],
   "source": [
    "# Drop HDI - Average annual growth Column\n",
    "human_development_index_df = human_development_index_df.iloc[:, :-1]\n",
    "# Drop Rank - Change since 2015 Column\n",
    "human_development_index_df = human_development_index_df.drop('Rank', axis=1)\n",
    "human_development_index_df['rank'] = range(1, len(human_development_index_df) + 1)\n",
    "\n",
    "# Rows to add for SQL key connections (No UN HDI data for these entities)\n",
    "new_row1 = {'Nation':'Undersea Features'}\n",
    "new_row2 = {'Nation':'Antarctica'}\n",
    "new_row3 = {'Nation':'Martinique'}\n",
    "new_row4 = {'Nation':'North Korea'}\n",
    "new_row5 = {'Nation':'Montserrat'}\n",
    "# Append the new rows to the DataFrame\n",
    "human_development_index_df = human_development_index_df.append(new_row1, ignore_index=True)\n",
    "human_development_index_df = human_development_index_df.append(new_row2, ignore_index=True)\n",
    "human_development_index_df = human_development_index_df.append(new_row3, ignore_index=True)\n",
    "human_development_index_df = human_development_index_df.append(new_row4, ignore_index=True)\n",
    "human_development_index_df = human_development_index_df.append(new_row5, ignore_index=True)"
   ]
  },
  {
   "cell_type": "code",
   "execution_count": null,
   "metadata": {
    "tags": []
   },
   "outputs": [],
   "source": [
    "human_development_index_df.head(200)"
   ]
  },
  {
   "cell_type": "code",
   "execution_count": null,
   "metadata": {
    "tags": []
   },
   "outputs": [],
   "source": [
    "human_development_index_df.to_csv('Output/human_development_index.csv', index=False, encoding='utf-8')"
   ]
  },
  {
   "cell_type": "code",
   "execution_count": null,
   "metadata": {},
   "outputs": [],
   "source": []
  }
 ],
 "metadata": {
  "kernelspec": {
   "display_name": "Python 3 (ipykernel)",
   "language": "python",
   "name": "python3"
  },
  "language_info": {
   "codemirror_mode": {
    "name": "ipython",
    "version": 3
   },
   "file_extension": ".py",
   "mimetype": "text/x-python",
   "name": "python",
   "nbconvert_exporter": "python",
   "pygments_lexer": "ipython3",
   "version": "3.10.11"
  },
  "vscode": {
   "interpreter": {
    "hash": "31f2aee4e71d21fbe5cf8b01ff0e069b9275f58929596ceb00d14d90e3e16cd6"
   }
  }
 },
 "nbformat": 4,
 "nbformat_minor": 4
}
